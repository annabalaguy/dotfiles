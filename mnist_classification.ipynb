{
  "nbformat": 4,
  "nbformat_minor": 0,
  "metadata": {
    "kernelspec": {
      "display_name": "Python 3",
      "language": "python",
      "name": "python3"
    },
    "colab": {
      "name": "mnist_classification.ipynb",
      "provenance": [],
      "include_colab_link": true
    }
  },
  "cells": [
    {
      "cell_type": "markdown",
      "metadata": {
        "id": "view-in-github",
        "colab_type": "text"
      },
      "source": [
        "<a href=\"https://colab.research.google.com/github/annabalaguy/dotfiles/blob/master/mnist_classification.ipynb\" target=\"_parent\"><img src=\"https://colab.research.google.com/assets/colab-badge.svg\" alt=\"Open In Colab\"/></a>"
      ]
    },
    {
      "cell_type": "code",
      "metadata": {
        "id": "rwzVHMQGXB-u"
      },
      "source": [
        "import numpy as np\n",
        "import pandas as pd\n",
        "import matplotlib.pyplot as plt # No need to import inline\n",
        "import seaborn as sns\n",
        "from tensorflow.keras import layers\n",
        "from tensorflow.keras import models\n",
        "from tensorflow.keras import Sequential\n",
        "import tensorflow as tf\n",
        "import numpy as np\n",
        "from tensorflow.keras import optimizers"
      ],
      "execution_count": 1,
      "outputs": []
    },
    {
      "cell_type": "markdown",
      "metadata": {
        "id": "5a9NBWRKWRUa"
      },
      "source": [
        "# Deep Learning week - Day 3 - Mnist classification\n",
        "\n",
        "### Exercise objectives\n",
        "- Implement a CNN architecture with convolution layers\n",
        "- Run a Neural Network on images\n",
        "\n",
        "<hr>\n",
        "<hr>\n",
        "\n",
        "Let's imagine for a moment that you are working for the postal office (and you're in 1970 / 1980). You deal everyday with a enourmous amont of letters, and you want to automate the process of reading the numbers that have been handwritten. This task, called the _Handwriting Recognition_, has been a very complex that has been handled by Bell Labs (among other) where Yann Le Cun used to work, and where such things have been developed : \n",
        "\n",
        "![Number recognition](recognition.gif)\n",
        "\n",
        "\n",
        "The idea is that you have an image (not a video: the animation is here to present what happens with different images) as an input and you try to predict the figure on the image - it corresponds to a classification task, where the output is the class (=figure) the image belongs to, from 0 to 9.\n",
        "\n",
        "This task used to be quite complex back in the time, and still is a benchmark on which a lot of people work. For this reason, the MNIST (for *Modified ou Mixed National Institute of Standards and Technology*) dataset has been created: it corresponds to digit images, from 0 to 9. \n",
        "\n",
        "You goal in this notebook is to build a Convolution Neural Network that can work on such images and predict the corresponding class of each digit image. Keep in mind that this CNN will make you classify hand-written digits, which was a very complex task till the 90's. \n",
        "\n",
        "## The data\n",
        "\n",
        "Keras provides multiple datasets within the Python package. You can load it with the following commands:"
      ]
    },
    {
      "cell_type": "code",
      "metadata": {
        "id": "JLPoJL6ZWRUe"
      },
      "source": [
        "from tensorflow.keras import datasets\n",
        "\n",
        "(X_train, y_train), (X_test, y_test) = datasets.mnist.load_data(path=\"mnist.npz\")"
      ],
      "execution_count": 2,
      "outputs": []
    },
    {
      "cell_type": "markdown",
      "metadata": {
        "id": "0JOqSoy9WRUg"
      },
      "source": [
        "❓ Question ❓ Let's look at some of the data. \n",
        "\n",
        "Select some of the values of the train set and plot them thanks to the `imshow` function from matplotlib with `cmap` set to `gray`(otherwise, the displayed colors are just some arrangement Matplotlib does, which does not exist in practice)."
      ]
    },
    {
      "cell_type": "code",
      "metadata": {
        "tags": [
          "challengify"
        ],
        "colab": {
          "base_uri": "https://localhost:8080/",
          "height": 201
        },
        "id": "4GXU79vaWRUg",
        "outputId": "b60af930-dec7-40db-8124-23dbfb3e3398"
      },
      "source": [
        "plt.subplot(1,2,1)\n",
        "plt.imshow(X_train[0], cmap=\"gray\");\n",
        "plt.subplot(1,2,2)\n",
        "plt.imshow(X_train[1], cmap=\"gray\");"
      ],
      "execution_count": 3,
      "outputs": [
        {
          "output_type": "display_data",
          "data": {
            "image/png": "[encoded data removed]",
            "text/plain": [
              "<Figure size 432x288 with 2 Axes>"
            ]
          },
          "metadata": {
            "needs_background": "light"
          }
        }
      ]
    },
    {
      "cell_type": "markdown",
      "metadata": {
        "id": "Pxsy1-kXWRUh"
      },
      "source": [
        "Remember that neural networks converge faster when the input data are somehow normalized? It goes similarly for input images. \n",
        "\n",
        "❓ Question ❓ As a first preprocessing step, you should normalize your data. For images, it simply implies to divide your input data by the maximal value, i.e. 255. Don't forget to do it on your train and test data.\n",
        "\n",
        "(N.B.: you can also centered your data, by substracting 0.5 but it is not mandatory). "
      ]
    },
    {
      "cell_type": "code",
      "metadata": {
        "tags": [
          "challengify"
        ],
        "id": "eez2BHbJWRUh"
      },
      "source": [
        " X_train = X_train/255\n",
        " X_test = X_test/255"
      ],
      "execution_count": 4,
      "outputs": []
    },
    {
      "cell_type": "markdown",
      "metadata": {
        "id": "cAGLZgbDWRUi"
      },
      "source": [
        "❓ Question ❓ What is the shape of your images?"
      ]
    },
    {
      "cell_type": "code",
      "metadata": {
        "tags": [
          "challengify"
        ],
        "colab": {
          "base_uri": "https://localhost:8080/"
        },
        "id": "LKxm3S7VWRUi",
        "outputId": "5ab6f8d3-d664-4609-c11e-d076c577e8ae"
      },
      "source": [
        "X_train.shape"
      ],
      "execution_count": 5,
      "outputs": [
        {
          "output_type": "execute_result",
          "data": {
            "text/plain": [
              "(60000, 28, 28)"
            ]
          },
          "metadata": {},
          "execution_count": 5
        }
      ]
    },
    {
      "cell_type": "markdown",
      "metadata": {
        "id": "X3aPJlWEWRUj"
      },
      "source": [
        "You see that you have 60.000 training images, all of size (28, 28). However, Keras needs images whose last dimension is the number of channels, which is missing here.\n",
        "\n",
        "❓ Question ❓ Use the `expand_dims` to add one dimension at the end of the training and test data. Then, print the shape of X_train and X_test that should respectively be (60000, 28, 28, 1) and (10000, 28, 28, 1)."
      ]
    },
    {
      "cell_type": "code",
      "metadata": {
        "id": "SNT_znuVWRUk"
      },
      "source": [
        "from tensorflow.keras.backend import expand_dims\n",
        "\n",
        "X_train = expand_dims(X_train)\n",
        "X_test = expand_dims(X_test)"
      ],
      "execution_count": 6,
      "outputs": []
    },
    {
      "cell_type": "code",
      "metadata": {
        "colab": {
          "base_uri": "https://localhost:8080/"
        },
        "id": "IZ9iX_2xZDOQ",
        "outputId": "34e30d15-8356-44a7-a8cf-acfd39ba9819"
      },
      "source": [
        "X_test.shape"
      ],
      "execution_count": 7,
      "outputs": [
        {
          "output_type": "execute_result",
          "data": {
            "text/plain": [
              "TensorShape([10000, 28, 28, 1])"
            ]
          },
          "metadata": {},
          "execution_count": 7
        }
      ]
    },
    {
      "cell_type": "markdown",
      "metadata": {
        "id": "bbzcFIbHWRUk"
      },
      "source": [
        "A last thing to do to prepare your data is to convert your labels to one-hot encoded categories.\n",
        "\n",
        "❓ Question ❓ Use `to_categorical` to transform your labels. Store the results in `y_train_cat` and `y_test_cat`."
      ]
    },
    {
      "cell_type": "code",
      "metadata": {
        "id": "Qz0cGMqAWRUk"
      },
      "source": [
        "from tensorflow.keras.utils import to_categorical\n",
        "y_train_cat = to_categorical(y_train)\n",
        "y_test_cat = to_categorical(y_test)"
      ],
      "execution_count": 8,
      "outputs": []
    },
    {
      "cell_type": "code",
      "metadata": {
        "colab": {
          "base_uri": "https://localhost:8080/"
        },
        "id": "m_QSGlU8ZfY7",
        "outputId": "ae567651-7439-4c1d-e49a-d489ba4dc2e5"
      },
      "source": [
        "y_test_cat"
      ],
      "execution_count": 9,
      "outputs": [
        {
          "output_type": "execute_result",
          "data": {
            "text/plain": [
              "array([[0., 0., 0., ..., 1., 0., 0.],\n",
              "       [0., 0., 1., ..., 0., 0., 0.],\n",
              "       [0., 1., 0., ..., 0., 0., 0.],\n",
              "       ...,\n",
              "       [0., 0., 0., ..., 0., 0., 0.],\n",
              "       [0., 0., 0., ..., 0., 0., 0.],\n",
              "       [0., 0., 0., ..., 0., 0., 0.]], dtype=float32)"
            ]
          },
          "metadata": {},
          "execution_count": 9
        }
      ]
    },
    {
      "cell_type": "markdown",
      "metadata": {
        "id": "6UyBWK3kWRUl"
      },
      "source": [
        "The data are now ready to be used.\n",
        "\n",
        "## The Convolutional Neural Network _aka_ CNN\n",
        "\n",
        "Now, build a Convolutional Neural Network. \n",
        "\n",
        "❓ Question ❓ Based on the course, build a neural network that has:\n",
        "- a `Conv2D` layer with 8 filters, each of size (4, 4), with an input shape suitable for your task, the relu activation function, and padding='same' so as to \n",
        "- a `MaxPool2D` layer with a pool_size of (2, 2)\n",
        "- a second `Conv2D` layer with 16 filters, each of size (3, 3), and the relu activation function\n",
        "- a second `MaxPool2D` layer with a pool_size of (2, 2)\n",
        "- a `Flatten` layer\n",
        "- a first `Dense` layer with 10 neurons and the relu activation function\n",
        "- a last layer that is suited for your task\n",
        "\n",
        "In the function, do not forget to include the compilation of the model, which optimizes the `categorical_crossentropy` with the adam optimizer - and the accuracy should be among the metrics."
      ]
    },
    {
      "cell_type": "code",
      "metadata": {
        "id": "C6SucS7zWRUl"
      },
      "source": [
        "\n",
        "\n",
        "\n",
        "def initialize_model():\n",
        "    ### First convolution & max-pooling\n",
        "    model = models.Sequential()\n",
        "    model.add(layers.Conv2D(8, kernel_size=(4, 4), activation='relu', input_shape=(28, 28, 1), padding = 'same'))\n",
        "    model.add(layers.MaxPool2D(pool_size=(2,2))) \n",
        "\n",
        "    ### Second convolution & max-pooling\n",
        "    model.add(layers.Conv2D(16, kernel_size=(3,3), activation='relu', padding = 'same')) # kernel_size = 3 <==> (3, 3)\n",
        "    model.add(layers.MaxPool2D(pool_size=(2,2))) \n",
        "\n",
        "    ### Flattening\n",
        "    model.add(layers.Flatten())\n",
        "\n",
        "    ### One fully connected\n",
        "    model.add(layers.Dense(10, activation='relu'))\n",
        "\n",
        "    ### Last layer (let's say a classification with 10 output)\n",
        "    model.add(layers.Dense(10, activation='softmax')) \n",
        "\n",
        "  \n",
        "    ### Model compilation\n",
        "    model.compile(loss='categorical_crossentropy',\n",
        "              optimizer='adam', \n",
        "              metrics=['accuracy'])\n",
        "    \n",
        "    return model"
      ],
      "execution_count": 40,
      "outputs": []
    },
    {
      "cell_type": "markdown",
      "metadata": {
        "id": "YjqT-fGnWRUm"
      },
      "source": [
        "❓ Question ❓ How many trainable parameters are there in your model?\n",
        "- Compute them with `model.summary()` first\n",
        "- Recompute them manually layer per layer then"
      ]
    },
    {
      "cell_type": "code",
      "metadata": {
        "id": "PGinBp0hbjR9"
      },
      "source": [
        " model = initialize_model()"
      ],
      "execution_count": 18,
      "outputs": []
    },
    {
      "cell_type": "code",
      "metadata": {
        "tags": [
          "challengify"
        ],
        "colab": {
          "base_uri": "https://localhost:8080/"
        },
        "id": "4Kyp_6SiWRUm",
        "outputId": "1278f0c4-ed6a-4fb6-e5b3-a03303316d3f"
      },
      "source": [
        "model.summary()"
      ],
      "execution_count": 19,
      "outputs": [
        {
          "output_type": "stream",
          "name": "stdout",
          "text": [
            "Model: \"sequential_3\"\n",
            "_________________________________________________________________\n",
            " Layer (type)                Output Shape              Param #   \n",
            "=================================================================\n",
            " conv2d_6 (Conv2D)           (None, 28, 28, 8)         136       \n",
            "                                                                 \n",
            " max_pooling2d_6 (MaxPooling  (None, 14, 14, 8)        0         \n",
            " 2D)                                                             \n",
            "                                                                 \n",
            " conv2d_7 (Conv2D)           (None, 14, 14, 16)        1168      \n",
            "                                                                 \n",
            " max_pooling2d_7 (MaxPooling  (None, 7, 7, 16)         0         \n",
            " 2D)                                                             \n",
            "                                                                 \n",
            " flatten_3 (Flatten)         (None, 784)               0         \n",
            "                                                                 \n",
            " dense_4 (Dense)             (None, 10)                7850      \n",
            "                                                                 \n",
            " dense_5 (Dense)             (None, 10)                110       \n",
            "                                                                 \n",
            "=================================================================\n",
            "Total params: 9,264\n",
            "Trainable params: 9,264\n",
            "Non-trainable params: 0\n",
            "_________________________________________________________________\n"
          ]
        }
      ]
    },
    {
      "cell_type": "markdown",
      "metadata": {
        "id": "FqbFvmjxWRUm"
      },
      "source": [
        "❓ Question ❓ Initialize your model and fit it on the train data. \n",
        "- Do not forget to use a validation set and an early stopping criterion. \n",
        "- Limit at 5 epoch max in this challenge (just to save time)"
      ]
    },
    {
      "cell_type": "code",
      "metadata": {
        "colab": {
          "base_uri": "https://localhost:8080/"
        },
        "id": "cbuyZ91_gO1U",
        "outputId": "699b822e-10cf-4b1e-cf3f-6cfe08a378bb"
      },
      "source": [
        "X_train.shape"
      ],
      "execution_count": 36,
      "outputs": [
        {
          "output_type": "execute_result",
          "data": {
            "text/plain": [
              "TensorShape([60000, 28, 28, 1])"
            ]
          },
          "metadata": {},
          "execution_count": 36
        }
      ]
    },
    {
      "cell_type": "code",
      "metadata": {
        "colab": {
          "base_uri": "https://localhost:8080/"
        },
        "id": "g6lgAsXFWRUm",
        "outputId": "16c37206-f824-4c34-ffa9-8f10966254b7"
      },
      "source": [
        "from tensorflow.keras.callbacks import EarlyStopping\n",
        "from tensorflow.keras import callbacks\n",
        "\n",
        "model = initialize_model()\n",
        "\n",
        "es = EarlyStopping(patience=30, restore_best_weights=True)\n",
        "\n",
        "model.fit(X_train, y_train_cat,\n",
        "          batch_size=16,\n",
        "          epochs=5,\n",
        "          validation_split=0.3,\n",
        "          callbacks=[es],\n",
        "          verbose=1)"
      ],
      "execution_count": 41,
      "outputs": [
        {
          "output_type": "stream",
          "name": "stdout",
          "text": [
            "Epoch 1/5\n",
            "2625/2625 [==============================] - 31s 11ms/step - loss: 0.4257 - accuracy: 0.8649 - val_loss: 0.1614 - val_accuracy: 0.9517\n",
            "Epoch 2/5\n",
            "2625/2625 [==============================] - 30s 11ms/step - loss: 0.1373 - accuracy: 0.9590 - val_loss: 0.1172 - val_accuracy: 0.9653\n",
            "Epoch 3/5\n",
            "2625/2625 [==============================] - 30s 11ms/step - loss: 0.1012 - accuracy: 0.9696 - val_loss: 0.1115 - val_accuracy: 0.9664\n",
            "Epoch 4/5\n",
            "2625/2625 [==============================] - 29s 11ms/step - loss: 0.0801 - accuracy: 0.9765 - val_loss: 0.0860 - val_accuracy: 0.9740\n",
            "Epoch 5/5\n",
            "2625/2625 [==============================] - 30s 11ms/step - loss: 0.0680 - accuracy: 0.9796 - val_loss: 0.0858 - val_accuracy: 0.9747\n"
          ]
        },
        {
          "output_type": "execute_result",
          "data": {
            "text/plain": [
              "<keras.callbacks.History at 0x7f49418b6b50>"
            ]
          },
          "metadata": {},
          "execution_count": 41
        }
      ]
    },
    {
      "cell_type": "markdown",
      "metadata": {
        "id": "kHBXG9zzWRUn"
      },
      "source": [
        "You probably see that the model converges within few epochs. The reason is that there are as many weight update as there are batches within each epoch. For instance, if you batch_size is of 32, you have 60.000/32 = 1875 updates.\n",
        "\n",
        "\n",
        "❓ Question ❓ What is your accuracy on the test set?"
      ]
    },
    {
      "cell_type": "code",
      "metadata": {
        "tags": [
          "challengify"
        ],
        "colab": {
          "base_uri": "https://localhost:8080/"
        },
        "id": "DojTrRl-WRUn",
        "outputId": "8f3875c1-ba34-4ca6-923d-053157337a36"
      },
      "source": [
        "model.evaluate(X_test, y_test_cat)"
      ],
      "execution_count": 42,
      "outputs": [
        {
          "output_type": "stream",
          "name": "stdout",
          "text": [
            "313/313 [==============================] - 2s 7ms/step - loss: 0.0764 - accuracy: 0.9759\n"
          ]
        },
        {
          "output_type": "execute_result",
          "data": {
            "text/plain": [
              "[0.07635475695133209, 0.9758999943733215]"
            ]
          },
          "metadata": {},
          "execution_count": 42
        }
      ]
    },
    {
      "cell_type": "markdown",
      "metadata": {
        "id": "4BOj2NELWRUn"
      },
      "source": [
        "### You should be already impressed by your skills! You solved what was a very hard problem 30 years ago with your CNN."
      ]
    },
    {
      "cell_type": "markdown",
      "metadata": {
        "id": "SUWUQ-0JWRUn"
      },
      "source": [
        "🏁 Congratulation! Don't forget to commit and push your notebook"
      ]
    },
    {
      "cell_type": "code",
      "metadata": {
        "id": "1ljeHhkEiMT9"
      },
      "source": [
        ""
      ],
      "execution_count": null,
      "outputs": []
    }
  ]
}